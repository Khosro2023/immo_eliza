{
 "cells": [
  {
   "cell_type": "code",
   "execution_count": 3,
   "metadata": {},
   "outputs": [],
   "source": [
    "import numpy as np \n",
    "import pandas as pd\n",
    "df = pd.read_csv(r'Data\\df_final.csv')\n",
    "     "
   ]
  },
  {
   "cell_type": "markdown",
   "metadata": {},
   "source": [
    "\tUnnamed: 0\tid\tLocality\tPostcode\tStreet\tNumber\tType_of_property\tSubtype_of_property\tPrice\tType_of_sale\tNumber_of_rooms\tLiving_area\tFully_equipped_kitchen\tFurnished\tOpen_fire\tTerrace\tTerrace_area\tGarden\tGarden_area\tSurface_of_the_land\tSurface_area_of_the_plot_of_land\tNumber_of_facades\t Swimming_pool\tState_of_the_building\n"
   ]
  },
  {
   "cell_type": "code",
   "execution_count": 4,
   "metadata": {},
   "outputs": [
    {
     "data": {
      "text/plain": [
       "(5181, 25)"
      ]
     },
     "execution_count": 4,
     "metadata": {},
     "output_type": "execute_result"
    }
   ],
   "source": [
    "df.shape"
   ]
  },
  {
   "cell_type": "code",
   "execution_count": 5,
   "metadata": {},
   "outputs": [
    {
     "data": {
      "text/html": [
       "<div>\n",
       "<style scoped>\n",
       "    .dataframe tbody tr th:only-of-type {\n",
       "        vertical-align: middle;\n",
       "    }\n",
       "\n",
       "    .dataframe tbody tr th {\n",
       "        vertical-align: top;\n",
       "    }\n",
       "\n",
       "    .dataframe thead th {\n",
       "        text-align: right;\n",
       "    }\n",
       "</style>\n",
       "<table border=\"1\" class=\"dataframe\">\n",
       "  <thead>\n",
       "    <tr style=\"text-align: right;\">\n",
       "      <th></th>\n",
       "      <th>Unnamed: 0.1</th>\n",
       "      <th>Unnamed: 0</th>\n",
       "      <th>id</th>\n",
       "      <th>Locality</th>\n",
       "      <th>Postcode</th>\n",
       "      <th>Street</th>\n",
       "      <th>Number</th>\n",
       "      <th>Type_of_property</th>\n",
       "      <th>Subtype_of_property</th>\n",
       "      <th>Price</th>\n",
       "      <th>...</th>\n",
       "      <th>Open_fire</th>\n",
       "      <th>Terrace</th>\n",
       "      <th>Terrace_area</th>\n",
       "      <th>Garden</th>\n",
       "      <th>Garden_area</th>\n",
       "      <th>Surface_of_the_land</th>\n",
       "      <th>Surface_area_of_the_plot_of_land</th>\n",
       "      <th>Number_of_facades</th>\n",
       "      <th>Swimming_pool</th>\n",
       "      <th>State_of_the_building</th>\n",
       "    </tr>\n",
       "  </thead>\n",
       "  <tbody>\n",
       "    <tr>\n",
       "      <th>0</th>\n",
       "      <td>1</td>\n",
       "      <td>1</td>\n",
       "      <td>10686030</td>\n",
       "      <td>Seraing</td>\n",
       "      <td>4100</td>\n",
       "      <td>Place Merlot</td>\n",
       "      <td>6</td>\n",
       "      <td>HOUSE</td>\n",
       "      <td>HOUSE</td>\n",
       "      <td>199000</td>\n",
       "      <td>...</td>\n",
       "      <td>No</td>\n",
       "      <td>Yes</td>\n",
       "      <td>108</td>\n",
       "      <td>Yes</td>\n",
       "      <td>28</td>\n",
       "      <td>229</td>\n",
       "      <td>104</td>\n",
       "      <td>2</td>\n",
       "      <td>No</td>\n",
       "      <td>GOOD</td>\n",
       "    </tr>\n",
       "    <tr>\n",
       "      <th>1</th>\n",
       "      <td>2</td>\n",
       "      <td>2</td>\n",
       "      <td>10686027</td>\n",
       "      <td>Lede</td>\n",
       "      <td>9340</td>\n",
       "      <td>Hoogstraat</td>\n",
       "      <td>20</td>\n",
       "      <td>HOUSE</td>\n",
       "      <td>VILLA</td>\n",
       "      <td>539000</td>\n",
       "      <td>...</td>\n",
       "      <td>No</td>\n",
       "      <td>Yes</td>\n",
       "      <td>60</td>\n",
       "      <td>No</td>\n",
       "      <td>0</td>\n",
       "      <td>911</td>\n",
       "      <td>541</td>\n",
       "      <td>4</td>\n",
       "      <td>No</td>\n",
       "      <td>AS_NEW</td>\n",
       "    </tr>\n",
       "    <tr>\n",
       "      <th>2</th>\n",
       "      <td>6</td>\n",
       "      <td>6</td>\n",
       "      <td>10683651</td>\n",
       "      <td>Trooz</td>\n",
       "      <td>4870</td>\n",
       "      <td>Grand rue</td>\n",
       "      <td>191</td>\n",
       "      <td>HOUSE</td>\n",
       "      <td>HOUSE</td>\n",
       "      <td>160000</td>\n",
       "      <td>...</td>\n",
       "      <td>No</td>\n",
       "      <td>Yes</td>\n",
       "      <td>14</td>\n",
       "      <td>No</td>\n",
       "      <td>0</td>\n",
       "      <td>116</td>\n",
       "      <td>14</td>\n",
       "      <td>3</td>\n",
       "      <td>No</td>\n",
       "      <td>TO_RENOVATE</td>\n",
       "    </tr>\n",
       "    <tr>\n",
       "      <th>3</th>\n",
       "      <td>7</td>\n",
       "      <td>7</td>\n",
       "      <td>10683687</td>\n",
       "      <td>Bruxelles</td>\n",
       "      <td>1000</td>\n",
       "      <td>Square Ambiorix</td>\n",
       "      <td>40</td>\n",
       "      <td>HOUSE</td>\n",
       "      <td>HOUSE</td>\n",
       "      <td>250000</td>\n",
       "      <td>...</td>\n",
       "      <td>No</td>\n",
       "      <td>No</td>\n",
       "      <td>0</td>\n",
       "      <td>No</td>\n",
       "      <td>0</td>\n",
       "      <td>17</td>\n",
       "      <td>58</td>\n",
       "      <td>2</td>\n",
       "      <td>No</td>\n",
       "      <td>TO_RESTORE</td>\n",
       "    </tr>\n",
       "    <tr>\n",
       "      <th>4</th>\n",
       "      <td>8</td>\n",
       "      <td>8</td>\n",
       "      <td>10685116</td>\n",
       "      <td>Hotton</td>\n",
       "      <td>6990</td>\n",
       "      <td>Rue Simon</td>\n",
       "      <td>46/2</td>\n",
       "      <td>HOUSE</td>\n",
       "      <td>APARTMENT_BLOCK</td>\n",
       "      <td>325000</td>\n",
       "      <td>...</td>\n",
       "      <td>No</td>\n",
       "      <td>No</td>\n",
       "      <td>0</td>\n",
       "      <td>No</td>\n",
       "      <td>0</td>\n",
       "      <td>122</td>\n",
       "      <td>113</td>\n",
       "      <td>2</td>\n",
       "      <td>No</td>\n",
       "      <td>GOOD</td>\n",
       "    </tr>\n",
       "  </tbody>\n",
       "</table>\n",
       "<p>5 rows × 25 columns</p>\n",
       "</div>"
      ],
      "text/plain": [
       "   Unnamed: 0.1  Unnamed: 0        id    Locality  Postcode            Street  \\\n",
       "0             1           1  10686030     Seraing      4100     Place Merlot    \n",
       "1             2           2  10686027        Lede      9340       Hoogstraat    \n",
       "2             6           6  10683651       Trooz      4870        Grand rue    \n",
       "3             7           7  10683687  Bruxelles       1000  Square Ambiorix    \n",
       "4             8           8  10685116      Hotton      6990        Rue Simon    \n",
       "\n",
       "  Number Type_of_property Subtype_of_property   Price  ... Open_fire  Terrace  \\\n",
       "0      6            HOUSE               HOUSE  199000  ...        No      Yes   \n",
       "1     20            HOUSE               VILLA  539000  ...        No      Yes   \n",
       "2    191            HOUSE               HOUSE  160000  ...        No      Yes   \n",
       "3     40            HOUSE               HOUSE  250000  ...        No       No   \n",
       "4   46/2            HOUSE     APARTMENT_BLOCK  325000  ...        No       No   \n",
       "\n",
       "   Terrace_area Garden Garden_area Surface_of_the_land  \\\n",
       "0           108    Yes          28                 229   \n",
       "1            60     No           0                 911   \n",
       "2            14     No           0                 116   \n",
       "3             0     No           0                  17   \n",
       "4             0     No           0                 122   \n",
       "\n",
       "  Surface_area_of_the_plot_of_land  Number_of_facades  Swimming_pool  \\\n",
       "0                              104                  2             No   \n",
       "1                              541                  4             No   \n",
       "2                               14                  3             No   \n",
       "3                               58                  2             No   \n",
       "4                              113                  2             No   \n",
       "\n",
       "   State_of_the_building  \n",
       "0                   GOOD  \n",
       "1                 AS_NEW  \n",
       "2            TO_RENOVATE  \n",
       "3             TO_RESTORE  \n",
       "4                   GOOD  \n",
       "\n",
       "[5 rows x 25 columns]"
      ]
     },
     "execution_count": 5,
     "metadata": {},
     "output_type": "execute_result"
    }
   ],
   "source": [
    "df.head()"
   ]
  },
  {
   "cell_type": "code",
   "execution_count": 6,
   "metadata": {},
   "outputs": [],
   "source": [
    "houses_df = df[df['Type_of_property'] == 'HOUSE']\n"
   ]
  },
  {
   "cell_type": "code",
   "execution_count": 7,
   "metadata": {},
   "outputs": [
    {
     "data": {
      "text/plain": [
       "(3346, 25)"
      ]
     },
     "execution_count": 7,
     "metadata": {},
     "output_type": "execute_result"
    }
   ],
   "source": [
    "houses_df.shape"
   ]
  },
  {
   "cell_type": "code",
   "execution_count": 8,
   "metadata": {},
   "outputs": [],
   "source": [
    "# Function to check if a value is \"No info\"\n",
    "def has_no_info(value):\n",
    "    return value != 'No info'\n",
    "\n",
    "# Apply the function to all cells in the DataFrame\n",
    "houses_df_cleaned = houses_df[houses_df.applymap(has_no_info).all(axis=1)]\n"
   ]
  },
  {
   "cell_type": "code",
   "execution_count": 9,
   "metadata": {},
   "outputs": [
    {
     "data": {
      "text/plain": [
       "(3070, 25)"
      ]
     },
     "execution_count": 9,
     "metadata": {},
     "output_type": "execute_result"
    }
   ],
   "source": [
    "houses_df_cleaned.shape"
   ]
  },
  {
   "cell_type": "code",
   "execution_count": 10,
   "metadata": {},
   "outputs": [
    {
     "name": "stdout",
     "output_type": "stream",
     "text": [
      "Columns with 'No info' values:\n",
      "Index([], dtype='object')\n",
      "\n",
      "Count of 'No info' occurrences in each column:\n",
      "Series([], dtype: float64)\n"
     ]
    }
   ],
   "source": [
    "# Find columns with \"No info\" values\n",
    "columns_with_no_info = houses_df_cleaned.columns[houses_df_cleaned.isin(['No info']).any()]\n",
    "\n",
    "# Count occurrences of \"No info\" in each column\n",
    "count_no_info = houses_df_cleaned[columns_with_no_info].apply(lambda col: col.eq('No info').sum())\n",
    "\n",
    "# Output the results\n",
    "print(\"Columns with 'No info' values:\")\n",
    "print(columns_with_no_info)\n",
    "\n",
    "print(\"\\nCount of 'No info' occurrences in each column:\")\n",
    "print(count_no_info)"
   ]
  },
  {
   "cell_type": "code",
   "execution_count": 11,
   "metadata": {},
   "outputs": [],
   "source": [
    "x_h = houses_df_cleaned.drop(columns=[\"Unnamed: 0.1\", \"Unnamed: 0\",\"id\",\"Locality\",\"Type_of_sale\", \"Postcode\",\t\"Street\",'Type_of_property'\t, \"Number\",\t\"Subtype_of_property\",\"Price\",\"Fully_equipped_kitchen\",\"Furnished\",\"Garden\",\"Open_fire\",\"Terrace\",\" Swimming_pool\", \"State_of_the_building\",'Garden' ])\n",
    "features_h = x_h.columns\n",
    "x_h = x_h.to_numpy()\n",
    "y_h = houses_df_cleaned.Price.to_numpy().reshape(-1 , 1)"
   ]
  },
  {
   "cell_type": "code",
   "execution_count": 12,
   "metadata": {},
   "outputs": [
    {
     "data": {
      "text/plain": [
       "(3070, 7)"
      ]
     },
     "execution_count": 12,
     "metadata": {},
     "output_type": "execute_result"
    }
   ],
   "source": [
    "x_h.shape"
   ]
  },
  {
   "cell_type": "code",
   "execution_count": 13,
   "metadata": {},
   "outputs": [
    {
     "data": {
      "text/plain": [
       "(3070, 1)"
      ]
     },
     "execution_count": 13,
     "metadata": {},
     "output_type": "execute_result"
    }
   ],
   "source": [
    "y_h.shape"
   ]
  },
  {
   "cell_type": "code",
   "execution_count": 26,
   "metadata": {},
   "outputs": [],
   "source": [
    "from sklearn.model_selection import train_test_split\n",
    "from sklearn.linear_model import LinearRegression\n",
    "from sklearn.tree import DecisionTreeRegressor\n",
    "from sklearn.svm import SVR\n",
    "\n",
    "\n",
    "def training_testing_scores(x_data, y_data):\n",
    "    x_train, x_test, y_train, y_test = train_test_split(x_data, y_data, random_state=42)\n",
    "    train_list = []\n",
    "    test_list=[]\n",
    "    for regressor in [DecisionTreeRegressor(max_depth=10),LinearRegression(), SVR(kernel='linear', C=1.0)]: \n",
    "     regressor.fit(x_train,y_train)\n",
    "     train_score = regressor.score(x_train, y_train)\n",
    "     test_score =regressor.score(x_test, y_test)\n",
    "     train_list.append(train_score)\n",
    "     test_list.append(test_score)\n",
    "\n",
    "    return train_list, test_list"
   ]
  },
  {
   "cell_type": "code",
   "execution_count": 27,
   "metadata": {},
   "outputs": [
    {
     "data": {
      "text/plain": [
       "(0.3620541942314348, 0.3211490221226624)"
      ]
     },
     "execution_count": 27,
     "metadata": {},
     "output_type": "execute_result"
    }
   ],
   "source": [
    "training_testing_scores(x_h,y_h)"
   ]
  },
  {
   "cell_type": "code",
   "execution_count": 16,
   "metadata": {},
   "outputs": [],
   "source": [
    "apartments_df = df[df['Type_of_property'] == 'APARTMENT']\n",
    "apartments_df = apartments_df.drop(['Surface_of_the_land', 'Surface_area_of_the_plot_of_land'], axis=1)"
   ]
  },
  {
   "cell_type": "code",
   "execution_count": 17,
   "metadata": {},
   "outputs": [
    {
     "name": "stdout",
     "output_type": "stream",
     "text": [
      "Columns with 'No info' values:\n",
      "Index(['Number', 'Fully_equipped_kitchen', 'State_of_the_building'], dtype='object')\n",
      "\n",
      "Count of 'No info' occurrences in each column:\n",
      "Number                     18\n",
      "Fully_equipped_kitchen    286\n",
      "State_of_the_building      78\n",
      "dtype: int64\n"
     ]
    }
   ],
   "source": [
    "# Find columns with \"No info\" values\n",
    "columns_with_no_info = apartments_df.columns[apartments_df.isin(['No info']).any()]\n",
    "\n",
    "# Count occurrences of \"No info\" in each column\n",
    "count_no_info = apartments_df[columns_with_no_info].apply(lambda col: col.eq('No info').sum())\n",
    "\n",
    "# Output the results\n",
    "print(\"Columns with 'No info' values:\")\n",
    "print(columns_with_no_info)\n",
    "\n",
    "print(\"\\nCount of 'No info' occurrences in each column:\")\n",
    "print(count_no_info)"
   ]
  },
  {
   "cell_type": "code",
   "execution_count": 18,
   "metadata": {},
   "outputs": [],
   "source": [
    "# Function to check if a value is \"No info\"\n",
    "def has_no_info(value):\n",
    "    return value != 'No info'\n",
    "\n",
    "# Apply the function to all cells in the DataFrame\n",
    "apartments_df_cleaned = apartments_df[apartments_df.applymap(has_no_info).all(axis=1)]\n"
   ]
  },
  {
   "cell_type": "code",
   "execution_count": 19,
   "metadata": {},
   "outputs": [
    {
     "data": {
      "text/plain": [
       "(1522, 23)"
      ]
     },
     "execution_count": 19,
     "metadata": {},
     "output_type": "execute_result"
    }
   ],
   "source": [
    "apartments_df_cleaned.shape"
   ]
  },
  {
   "cell_type": "code",
   "execution_count": 20,
   "metadata": {},
   "outputs": [
    {
     "data": {
      "text/plain": [
       "0"
      ]
     },
     "execution_count": 20,
     "metadata": {},
     "output_type": "execute_result"
    }
   ],
   "source": [
    "apartments_df_cleaned.isna().sum().sum()"
   ]
  },
  {
   "cell_type": "code",
   "execution_count": 21,
   "metadata": {},
   "outputs": [],
   "source": [
    "x_a = apartments_df_cleaned.drop(columns=[\"Unnamed: 0.1\", \"Unnamed: 0\",\"id\",\"Locality\",\"Type_of_sale\", \"Postcode\",\t\"Street\",'Type_of_property'\t, \"Number\",\t\"Subtype_of_property\",\"Price\",\"Fully_equipped_kitchen\",\"Furnished\",\"Garden\",\"Open_fire\",\"Terrace\",\" Swimming_pool\", \"State_of_the_building\" ,'Garden','Number_of_facades'])\n",
    "features_a = x_a.columns\n",
    "x_a = x_a.to_numpy()\n",
    "y_a = apartments_df_cleaned.Price.to_numpy().reshape(-1 , 1)"
   ]
  },
  {
   "cell_type": "code",
   "execution_count": 22,
   "metadata": {},
   "outputs": [
    {
     "name": "stdout",
     "output_type": "stream",
     "text": [
      "Index(['Number_of_rooms', 'Living_area', 'Terrace_area', 'Garden_area'], dtype='object')\n"
     ]
    }
   ],
   "source": [
    "print(features_a)"
   ]
  },
  {
   "cell_type": "code",
   "execution_count": 28,
   "metadata": {},
   "outputs": [
    {
     "data": {
      "text/plain": [
       "(0.5383943284792463, 0.4947574564069118)"
      ]
     },
     "execution_count": 28,
     "metadata": {},
     "output_type": "execute_result"
    }
   ],
   "source": [
    "training_testing_scores(x_a,y_a)\n"
   ]
  }
 ],
 "metadata": {
  "kernelspec": {
   "display_name": "en_immo",
   "language": "python",
   "name": "python3"
  },
  "language_info": {
   "codemirror_mode": {
    "name": "ipython",
    "version": 3
   },
   "file_extension": ".py",
   "mimetype": "text/x-python",
   "name": "python",
   "nbconvert_exporter": "python",
   "pygments_lexer": "ipython3",
   "version": "3.11.4"
  },
  "orig_nbformat": 4
 },
 "nbformat": 4,
 "nbformat_minor": 2
}
