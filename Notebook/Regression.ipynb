{
 "cells": [
  {
   "cell_type": "code",
   "execution_count": 102,
   "metadata": {},
   "outputs": [],
   "source": [
    "import numpy as np \n",
    "import pandas as pd\n",
    "df = pd.read_csv(r'Notebook\\Data\\df_final.csv')\n",
    "     "
   ]
  },
  {
   "cell_type": "markdown",
   "metadata": {},
   "source": [
    "\tUnnamed: 0\tid\tLocality\tPostcode\tStreet\tNumber\tType_of_property\tSubtype_of_property\tPrice\tType_of_sale\tNumber_of_rooms\tLiving_area\tFully_equipped_kitchen\tFurnished\tOpen_fire\tTerrace\tTerrace_area\tGarden\tGarden_area\tSurface_of_the_land\tSurface_area_of_the_plot_of_land\tNumber_of_facades\t Swimming_pool\tState_of_the_building\n"
   ]
  },
  {
   "cell_type": "code",
   "execution_count": 103,
   "metadata": {},
   "outputs": [
    {
     "data": {
      "text/plain": [
       "(3070, 25)"
      ]
     },
     "execution_count": 103,
     "metadata": {},
     "output_type": "execute_result"
    }
   ],
   "source": [
    "df = df.replace('No info', pd.NA)  # Replace 'no info' with NaN\n",
    "df = df.dropna()  # Drop rows with NaN values\n",
    "df.shape"
   ]
  },
  {
   "cell_type": "code",
   "execution_count": 104,
   "metadata": {},
   "outputs": [
    {
     "data": {
      "text/plain": [
       "0       False\n",
       "1       False\n",
       "2       False\n",
       "3       False\n",
       "4       False\n",
       "        ...  \n",
       "3341    False\n",
       "3342    False\n",
       "3343    False\n",
       "3344    False\n",
       "3345    False\n",
       "Length: 3070, dtype: bool"
      ]
     },
     "execution_count": 104,
     "metadata": {},
     "output_type": "execute_result"
    }
   ],
   "source": [
    "df.apply(lambda row: row.astype(str).str.contains('no info').any(), axis=1)"
   ]
  },
  {
   "cell_type": "code",
   "execution_count": 105,
   "metadata": {},
   "outputs": [
    {
     "data": {
      "text/html": [
       "<div>\n",
       "<style scoped>\n",
       "    .dataframe tbody tr th:only-of-type {\n",
       "        vertical-align: middle;\n",
       "    }\n",
       "\n",
       "    .dataframe tbody tr th {\n",
       "        vertical-align: top;\n",
       "    }\n",
       "\n",
       "    .dataframe thead th {\n",
       "        text-align: right;\n",
       "    }\n",
       "</style>\n",
       "<table border=\"1\" class=\"dataframe\">\n",
       "  <thead>\n",
       "    <tr style=\"text-align: right;\">\n",
       "      <th></th>\n",
       "      <th>Unnamed: 0.1</th>\n",
       "      <th>Unnamed: 0</th>\n",
       "      <th>id</th>\n",
       "      <th>Locality</th>\n",
       "      <th>Postcode</th>\n",
       "      <th>Street</th>\n",
       "      <th>Number</th>\n",
       "      <th>Type_of_property</th>\n",
       "      <th>Subtype_of_property</th>\n",
       "      <th>Price</th>\n",
       "      <th>...</th>\n",
       "      <th>Open_fire</th>\n",
       "      <th>Terrace</th>\n",
       "      <th>Terrace_area</th>\n",
       "      <th>Garden</th>\n",
       "      <th>Garden_area</th>\n",
       "      <th>Surface_of_the_land</th>\n",
       "      <th>Surface_area_of_the_plot_of_land</th>\n",
       "      <th>Number_of_facades</th>\n",
       "      <th>Swimming_pool</th>\n",
       "      <th>State_of_the_building</th>\n",
       "    </tr>\n",
       "  </thead>\n",
       "  <tbody>\n",
       "    <tr>\n",
       "      <th>0</th>\n",
       "      <td>1</td>\n",
       "      <td>1</td>\n",
       "      <td>10686030</td>\n",
       "      <td>Seraing</td>\n",
       "      <td>4100</td>\n",
       "      <td>Place Merlot</td>\n",
       "      <td>6</td>\n",
       "      <td>HOUSE</td>\n",
       "      <td>HOUSE</td>\n",
       "      <td>199000</td>\n",
       "      <td>...</td>\n",
       "      <td>No</td>\n",
       "      <td>Yes</td>\n",
       "      <td>108</td>\n",
       "      <td>Yes</td>\n",
       "      <td>28</td>\n",
       "      <td>229</td>\n",
       "      <td>104</td>\n",
       "      <td>2</td>\n",
       "      <td>No</td>\n",
       "      <td>GOOD</td>\n",
       "    </tr>\n",
       "    <tr>\n",
       "      <th>1</th>\n",
       "      <td>2</td>\n",
       "      <td>2</td>\n",
       "      <td>10686027</td>\n",
       "      <td>Lede</td>\n",
       "      <td>9340</td>\n",
       "      <td>Hoogstraat</td>\n",
       "      <td>20</td>\n",
       "      <td>HOUSE</td>\n",
       "      <td>VILLA</td>\n",
       "      <td>539000</td>\n",
       "      <td>...</td>\n",
       "      <td>No</td>\n",
       "      <td>Yes</td>\n",
       "      <td>60</td>\n",
       "      <td>No</td>\n",
       "      <td>0</td>\n",
       "      <td>911</td>\n",
       "      <td>541</td>\n",
       "      <td>4</td>\n",
       "      <td>No</td>\n",
       "      <td>AS_NEW</td>\n",
       "    </tr>\n",
       "    <tr>\n",
       "      <th>2</th>\n",
       "      <td>6</td>\n",
       "      <td>6</td>\n",
       "      <td>10683651</td>\n",
       "      <td>Trooz</td>\n",
       "      <td>4870</td>\n",
       "      <td>Grand rue</td>\n",
       "      <td>191</td>\n",
       "      <td>HOUSE</td>\n",
       "      <td>HOUSE</td>\n",
       "      <td>160000</td>\n",
       "      <td>...</td>\n",
       "      <td>No</td>\n",
       "      <td>Yes</td>\n",
       "      <td>14</td>\n",
       "      <td>No</td>\n",
       "      <td>0</td>\n",
       "      <td>116</td>\n",
       "      <td>14</td>\n",
       "      <td>3</td>\n",
       "      <td>No</td>\n",
       "      <td>TO_RENOVATE</td>\n",
       "    </tr>\n",
       "    <tr>\n",
       "      <th>3</th>\n",
       "      <td>7</td>\n",
       "      <td>7</td>\n",
       "      <td>10683687</td>\n",
       "      <td>Bruxelles</td>\n",
       "      <td>1000</td>\n",
       "      <td>Square Ambiorix</td>\n",
       "      <td>40</td>\n",
       "      <td>HOUSE</td>\n",
       "      <td>HOUSE</td>\n",
       "      <td>250000</td>\n",
       "      <td>...</td>\n",
       "      <td>No</td>\n",
       "      <td>No</td>\n",
       "      <td>0</td>\n",
       "      <td>No</td>\n",
       "      <td>0</td>\n",
       "      <td>17</td>\n",
       "      <td>58</td>\n",
       "      <td>2</td>\n",
       "      <td>No</td>\n",
       "      <td>TO_RESTORE</td>\n",
       "    </tr>\n",
       "    <tr>\n",
       "      <th>4</th>\n",
       "      <td>8</td>\n",
       "      <td>8</td>\n",
       "      <td>10685116</td>\n",
       "      <td>Hotton</td>\n",
       "      <td>6990</td>\n",
       "      <td>Rue Simon</td>\n",
       "      <td>46/2</td>\n",
       "      <td>HOUSE</td>\n",
       "      <td>APARTMENT_BLOCK</td>\n",
       "      <td>325000</td>\n",
       "      <td>...</td>\n",
       "      <td>No</td>\n",
       "      <td>No</td>\n",
       "      <td>0</td>\n",
       "      <td>No</td>\n",
       "      <td>0</td>\n",
       "      <td>122</td>\n",
       "      <td>113</td>\n",
       "      <td>2</td>\n",
       "      <td>No</td>\n",
       "      <td>GOOD</td>\n",
       "    </tr>\n",
       "  </tbody>\n",
       "</table>\n",
       "<p>5 rows × 25 columns</p>\n",
       "</div>"
      ],
      "text/plain": [
       "   Unnamed: 0.1  Unnamed: 0        id    Locality  Postcode            Street  \\\n",
       "0             1           1  10686030     Seraing      4100     Place Merlot    \n",
       "1             2           2  10686027        Lede      9340       Hoogstraat    \n",
       "2             6           6  10683651       Trooz      4870        Grand rue    \n",
       "3             7           7  10683687  Bruxelles       1000  Square Ambiorix    \n",
       "4             8           8  10685116      Hotton      6990        Rue Simon    \n",
       "\n",
       "  Number Type_of_property Subtype_of_property   Price  ... Open_fire  Terrace  \\\n",
       "0      6            HOUSE               HOUSE  199000  ...        No      Yes   \n",
       "1     20            HOUSE               VILLA  539000  ...        No      Yes   \n",
       "2    191            HOUSE               HOUSE  160000  ...        No      Yes   \n",
       "3     40            HOUSE               HOUSE  250000  ...        No       No   \n",
       "4   46/2            HOUSE     APARTMENT_BLOCK  325000  ...        No       No   \n",
       "\n",
       "   Terrace_area Garden Garden_area Surface_of_the_land  \\\n",
       "0           108    Yes          28                 229   \n",
       "1            60     No           0                 911   \n",
       "2            14     No           0                 116   \n",
       "3             0     No           0                  17   \n",
       "4             0     No           0                 122   \n",
       "\n",
       "  Surface_area_of_the_plot_of_land  Number_of_facades  Swimming_pool  \\\n",
       "0                              104                  2             No   \n",
       "1                              541                  4             No   \n",
       "2                               14                  3             No   \n",
       "3                               58                  2             No   \n",
       "4                              113                  2             No   \n",
       "\n",
       "   State_of_the_building  \n",
       "0                   GOOD  \n",
       "1                 AS_NEW  \n",
       "2            TO_RENOVATE  \n",
       "3             TO_RESTORE  \n",
       "4                   GOOD  \n",
       "\n",
       "[5 rows x 25 columns]"
      ]
     },
     "execution_count": 105,
     "metadata": {},
     "output_type": "execute_result"
    }
   ],
   "source": [
    "df.head()"
   ]
  },
  {
   "cell_type": "code",
   "execution_count": 106,
   "metadata": {},
   "outputs": [],
   "source": [
    "X_ = df.drop(columns=[\"Unnamed: 0.1\", \"Unnamed: 0\",\"id\",\"Locality\",\"Type_of_sale\", \"Postcode\",\t\"Street\"\t, \"Number\",\t\"Type_of_property\",\t\"Subtype_of_property\",\"Price\",\"Type_of_property\",\"Fully_equipped_kitchen\",\"Furnished\",\"Garden\",\"Open_fire\",\"Terrace\",\" Swimming_pool\", \"State_of_the_building\" ])\n",
    "features = X_.columns\n",
    "X = X_.to_numpy()\n",
    "y = df.Price.to_numpy().reshape(-1 , 1)"
   ]
  },
  {
   "cell_type": "code",
   "execution_count": 107,
   "metadata": {},
   "outputs": [
    {
     "name": "stdout",
     "output_type": "stream",
     "text": [
      "Index(['Number_of_rooms', 'Living_area', 'Terrace_area', 'Garden_area',\n",
      "       'Surface_of_the_land', 'Surface_area_of_the_plot_of_land',\n",
      "       'Number_of_facades'],\n",
      "      dtype='object')\n"
     ]
    }
   ],
   "source": [
    "print(features)"
   ]
  },
  {
   "cell_type": "code",
   "execution_count": 108,
   "metadata": {},
   "outputs": [],
   "source": [
    "df['Number_of_rooms']=df['Number_of_rooms'].astype(float)\n",
    "df['Living_area']=df['Living_area'].astype(float)\n",
    "df['Terrace_area']=df['Terrace_area'].astype(float)\n",
    "df['Number_of_rooms']=df['Number_of_rooms'].astype(float)\n",
    "df['Surface_of_the_land']=df['Surface_of_the_land'].astype(float)\n",
    "df['Surface_area_of_the_plot_of_land']=df['Surface_area_of_the_plot_of_land'].astype(float)\n",
    "df['Number_of_facades']=df['Number_of_facades'].astype(float)\n"
   ]
  },
  {
   "cell_type": "code",
   "execution_count": 109,
   "metadata": {},
   "outputs": [
    {
     "name": "stdout",
     "output_type": "stream",
     "text": [
      "X shape :  (3070, 7)\n",
      "y shape :  (3070, 1)\n"
     ]
    }
   ],
   "source": [
    "print(\"X shape : \", X.shape)\n",
    "print(\"y shape : \", y.shape)"
   ]
  },
  {
   "cell_type": "code",
   "execution_count": 110,
   "metadata": {},
   "outputs": [],
   "source": [
    "# Splitting the dataset into the Training set and Test set\n",
    "import sklearn\n",
    "from sklearn.model_selection import train_test_split \n",
    "X_train, X_test, y_train, y_test = train_test_split(X, y, test_size=0.2, random_state=0)\n",
    "     "
   ]
  },
  {
   "cell_type": "code",
   "execution_count": 111,
   "metadata": {},
   "outputs": [
    {
     "name": "stdout",
     "output_type": "stream",
     "text": [
      "Shape of X_train:  (2456, 7)\n",
      "Shape of X_test:  (614, 7)\n",
      "Shape of y_train:  (2456, 1)\n",
      "Shape of y_test:  (614, 1)\n"
     ]
    }
   ],
   "source": [
    "print(\"Shape of X_train: \", X_train.shape)\n",
    "print(\"Shape of X_test: \", X_test.shape)\n",
    "print(\"Shape of y_train: \", y_train.shape)\n",
    "print(\"Shape of y_test: \", y_test.shape)"
   ]
  },
  {
   "cell_type": "code",
   "execution_count": 112,
   "metadata": {},
   "outputs": [],
   "source": [
    "from sklearn.linear_model import LinearRegression\n",
    "regressor = LinearRegression()\n",
    "     "
   ]
  },
  {
   "cell_type": "code",
   "execution_count": 113,
   "metadata": {},
   "outputs": [
    {
     "data": {
      "text/plain": [
       "array([[4, 125, 108, ..., '229', '104', '2'],\n",
       "       [4, 370, 60, ..., '911', '541', '4'],\n",
       "       [2, 130, 14, ..., '116', '14', '3'],\n",
       "       ...,\n",
       "       [10, 900, 20, ..., '13081', '12181', '4'],\n",
       "       [10, 900, 20, ..., '13081', '12181', '4'],\n",
       "       [4, 247, 0, ..., '494', '247', '4']], dtype=object)"
      ]
     },
     "execution_count": 113,
     "metadata": {},
     "output_type": "execute_result"
    }
   ],
   "source": [
    "X"
   ]
  },
  {
   "cell_type": "code",
   "execution_count": 114,
   "metadata": {},
   "outputs": [
    {
     "data": {
      "text/html": [
       "<style>#sk-container-id-3 {color: black;}#sk-container-id-3 pre{padding: 0;}#sk-container-id-3 div.sk-toggleable {background-color: white;}#sk-container-id-3 label.sk-toggleable__label {cursor: pointer;display: block;width: 100%;margin-bottom: 0;padding: 0.3em;box-sizing: border-box;text-align: center;}#sk-container-id-3 label.sk-toggleable__label-arrow:before {content: \"▸\";float: left;margin-right: 0.25em;color: #696969;}#sk-container-id-3 label.sk-toggleable__label-arrow:hover:before {color: black;}#sk-container-id-3 div.sk-estimator:hover label.sk-toggleable__label-arrow:before {color: black;}#sk-container-id-3 div.sk-toggleable__content {max-height: 0;max-width: 0;overflow: hidden;text-align: left;background-color: #f0f8ff;}#sk-container-id-3 div.sk-toggleable__content pre {margin: 0.2em;color: black;border-radius: 0.25em;background-color: #f0f8ff;}#sk-container-id-3 input.sk-toggleable__control:checked~div.sk-toggleable__content {max-height: 200px;max-width: 100%;overflow: auto;}#sk-container-id-3 input.sk-toggleable__control:checked~label.sk-toggleable__label-arrow:before {content: \"▾\";}#sk-container-id-3 div.sk-estimator input.sk-toggleable__control:checked~label.sk-toggleable__label {background-color: #d4ebff;}#sk-container-id-3 div.sk-label input.sk-toggleable__control:checked~label.sk-toggleable__label {background-color: #d4ebff;}#sk-container-id-3 input.sk-hidden--visually {border: 0;clip: rect(1px 1px 1px 1px);clip: rect(1px, 1px, 1px, 1px);height: 1px;margin: -1px;overflow: hidden;padding: 0;position: absolute;width: 1px;}#sk-container-id-3 div.sk-estimator {font-family: monospace;background-color: #f0f8ff;border: 1px dotted black;border-radius: 0.25em;box-sizing: border-box;margin-bottom: 0.5em;}#sk-container-id-3 div.sk-estimator:hover {background-color: #d4ebff;}#sk-container-id-3 div.sk-parallel-item::after {content: \"\";width: 100%;border-bottom: 1px solid gray;flex-grow: 1;}#sk-container-id-3 div.sk-label:hover label.sk-toggleable__label {background-color: #d4ebff;}#sk-container-id-3 div.sk-serial::before {content: \"\";position: absolute;border-left: 1px solid gray;box-sizing: border-box;top: 0;bottom: 0;left: 50%;z-index: 0;}#sk-container-id-3 div.sk-serial {display: flex;flex-direction: column;align-items: center;background-color: white;padding-right: 0.2em;padding-left: 0.2em;position: relative;}#sk-container-id-3 div.sk-item {position: relative;z-index: 1;}#sk-container-id-3 div.sk-parallel {display: flex;align-items: stretch;justify-content: center;background-color: white;position: relative;}#sk-container-id-3 div.sk-item::before, #sk-container-id-3 div.sk-parallel-item::before {content: \"\";position: absolute;border-left: 1px solid gray;box-sizing: border-box;top: 0;bottom: 0;left: 50%;z-index: -1;}#sk-container-id-3 div.sk-parallel-item {display: flex;flex-direction: column;z-index: 1;position: relative;background-color: white;}#sk-container-id-3 div.sk-parallel-item:first-child::after {align-self: flex-end;width: 50%;}#sk-container-id-3 div.sk-parallel-item:last-child::after {align-self: flex-start;width: 50%;}#sk-container-id-3 div.sk-parallel-item:only-child::after {width: 0;}#sk-container-id-3 div.sk-dashed-wrapped {border: 1px dashed gray;margin: 0 0.4em 0.5em 0.4em;box-sizing: border-box;padding-bottom: 0.4em;background-color: white;}#sk-container-id-3 div.sk-label label {font-family: monospace;font-weight: bold;display: inline-block;line-height: 1.2em;}#sk-container-id-3 div.sk-label-container {text-align: center;}#sk-container-id-3 div.sk-container {/* jupyter's `normalize.less` sets `[hidden] { display: none; }` but bootstrap.min.css set `[hidden] { display: none !important; }` so we also need the `!important` here to be able to override the default hidden behavior on the sphinx rendered scikit-learn.org. See: https://github.com/scikit-learn/scikit-learn/issues/21755 */display: inline-block !important;position: relative;}#sk-container-id-3 div.sk-text-repr-fallback {display: none;}</style><div id=\"sk-container-id-3\" class=\"sk-top-container\"><div class=\"sk-text-repr-fallback\"><pre>LinearRegression()</pre><b>In a Jupyter environment, please rerun this cell to show the HTML representation or trust the notebook. <br />On GitHub, the HTML representation is unable to render, please try loading this page with nbviewer.org.</b></div><div class=\"sk-container\" hidden><div class=\"sk-item\"><div class=\"sk-estimator sk-toggleable\"><input class=\"sk-toggleable__control sk-hidden--visually\" id=\"sk-estimator-id-3\" type=\"checkbox\" checked><label for=\"sk-estimator-id-3\" class=\"sk-toggleable__label sk-toggleable__label-arrow\">LinearRegression</label><div class=\"sk-toggleable__content\"><pre>LinearRegression()</pre></div></div></div></div></div>"
      ],
      "text/plain": [
       "LinearRegression()"
      ]
     },
     "execution_count": 114,
     "metadata": {},
     "output_type": "execute_result"
    }
   ],
   "source": [
    "regressor.fit(X_train,y_train)"
   ]
  },
  {
   "cell_type": "code",
   "execution_count": 115,
   "metadata": {},
   "outputs": [
    {
     "data": {
      "text/plain": [
       "0.3502477238246422"
      ]
     },
     "execution_count": 115,
     "metadata": {},
     "output_type": "execute_result"
    }
   ],
   "source": [
    "regressor.score(X_train, y_train)"
   ]
  }
 ],
 "metadata": {
  "kernelspec": {
   "display_name": "en_immo",
   "language": "python",
   "name": "python3"
  },
  "language_info": {
   "codemirror_mode": {
    "name": "ipython",
    "version": 3
   },
   "file_extension": ".py",
   "mimetype": "text/x-python",
   "name": "python",
   "nbconvert_exporter": "python",
   "pygments_lexer": "ipython3",
   "version": "3.11.4"
  },
  "orig_nbformat": 4
 },
 "nbformat": 4,
 "nbformat_minor": 2
}
